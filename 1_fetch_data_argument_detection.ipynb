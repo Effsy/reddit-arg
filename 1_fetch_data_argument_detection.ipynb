{
 "cells": [
  {
   "cell_type": "code",
   "execution_count": null,
   "metadata": {},
   "outputs": [],
   "source": [
    "# Retrieve data from r/changemyview using Reddit's API through the PRAW library\n",
    "# Randomly select a sample of arguments from threads \n",
    "# Saves the data to a file for labelling\n",
    "\n",
    "import json\n",
    "import re\n",
    "import praw\n",
    "import nltk\n",
    "import random\n",
    "\n",
    "# download dataset for sentence tokenizer\n",
    "nltk.download('punkt')"
   ]
  },
  {
   "cell_type": "markdown",
   "metadata": {},
   "source": [
    "### Fetch"
   ]
  },
  {
   "cell_type": "code",
   "execution_count": null,
   "metadata": {},
   "outputs": [],
   "source": [
    "# Create new praw instance with credentials from praw.ini\n",
    "reddit = praw.Reddit('arg-mining')\n",
    "\n",
    "# Threads and their arguments\n",
    "# key = submission_id\n",
    "# value = list of arguments\n",
    "arg_threads = {}\n",
    "\n",
    "arg_titles = {}\n",
    "\n",
    "# Add sentences from submission title, body and comments to arg_threads array\n",
    "for submission in reddit.subreddit('changemyview').hot(limit=500):\n",
    "    # Add submission body and title to arg_threads[i]\n",
    "    arg_threads[submission.id] = []\n",
    "    arg_threads[submission.id] = arg_threads[submission.id] + nltk.sent_tokenize(submission.selftext)\n",
    "    \n",
    "    arg_titles[submission.id] = submission.title + \" ID: \" + submission.id\n",
    "\n",
    "    # Remove \"replace more\" from comments results\n",
    "    submission.comments.replace_more(limit=None)\n",
    "\n",
    "    # Get full comment tree under top level comments and add to arg_threads\n",
    "    for comment in submission.comments.list():\n",
    "        arg_threads[submission.id] = arg_threads[submission.id] + nltk.sent_tokenize(comment.body)"
   ]
  },
  {
   "cell_type": "markdown",
   "metadata": {},
   "source": [
    "### Clean"
   ]
  },
  {
   "cell_type": "code",
   "execution_count": null,
   "metadata": {},
   "outputs": [],
   "source": [
    "# Convert common utf-8 punctuation to ascii\n",
    "# Clean but still retain the exact same meaning of the text\n",
    "def clean_text(text):\n",
    "    # Replace utf-8 single quotes with ascii apostrophes\n",
    "    text = re.sub(r\"(\\u2018|\\u2019)\", \"'\", text)\n",
    "    # Replace utf-8 double quotes with ascii double quotes\n",
    "    text = re.sub(r\"(\\u201c|\\u201d)\", '\"', text)\n",
    "    # Remove all asterisks (bold or italics)\n",
    "    # text = re.sub(r\"\\*\", \"\", text)\n",
    "\n",
    "    # Remove arguments starting with > or - (reddit markup for quotes or bullet points)\n",
    "    # With spaces before or after\n",
    "    # text = re.sub(r\"\\s*>\\s*\", \"\", text)\n",
    "    # text = re.sub(r\"\\s*-\\s*\", \"\", text)\n",
    "    \n",
    "    return text\n",
    "\n",
    "for key, thread in arg_threads.items():\n",
    "    arg_threads[key] = [clean_text(arg) for arg in thread]"
   ]
  },
  {
   "cell_type": "code",
   "execution_count": null,
   "metadata": {},
   "outputs": [],
   "source": [
    "# Split all sentences containing \\n into separate sentences\n",
    "for key, thread in arg_threads.items():\n",
    "    arg_threads[key] = [split_args for arg in thread for split_args in arg.splitlines()]"
   ]
  },
  {
   "cell_type": "code",
   "execution_count": null,
   "metadata": {},
   "outputs": [],
   "source": [
    "# Remove whitespace from arguments and empty strings from thread lists\n",
    "for key, thread in arg_threads.items():\n",
    "    arg_threads[key] = [arg.strip() for arg in thread if arg.strip()]\n",
    "\n",
    "print(arg_threads.values())"
   ]
  },
  {
   "cell_type": "code",
   "execution_count": null,
   "metadata": {},
   "outputs": [],
   "source": [
    "# Remove duplicates from the lists\n",
    "for key, thread in arg_threads.items():\n",
    "    arg_threads[key] = list(set(thread))"
   ]
  },
  {
   "cell_type": "markdown",
   "metadata": {},
   "source": [
    "### Store"
   ]
  },
  {
   "cell_type": "code",
   "execution_count": null,
   "metadata": {},
   "outputs": [],
   "source": [
    "# Take the first 500 threads that contain at least 100 arguments\n",
    "\n",
    "for key, thread in list(arg_threads.items()):\n",
    "    if len(thread) < 50:\n",
    "        del arg_threads[key]\n",
    "        del arg_titles[key]\n",
    "\n",
    "args = [thread for thread in arg_threads.values()][:200]\n",
    "arg_titles = [title for title in arg_titles.values()][:200]\n",
    "\n",
    "# Take a random sample of 5 arguments from each argument thread\n",
    "args = [arg for thread in args for arg in random.sample(thread, 5)]\n",
    "\n",
    "print(args)"
   ]
  },
  {
   "cell_type": "code",
   "execution_count": null,
   "metadata": {},
   "outputs": [],
   "source": [
    "# Write data to file\n",
    "\n",
    "with open('./unlabelled_data/1000_unlabelled_argument_sentences.txt', 'w') as write_file:\n",
    "    for arg in args:\n",
    "        write_file.write(arg + '\\n')\n",
    "\n",
    "# Write titles to file\n",
    "\n",
    "with open('./unlabelled_data/argument_titles.txt', 'w') as write_file:\n",
    "    for title in arg_titles:\n",
    "        write_file.write(title + '\\n')"
   ]
  }
 ],
 "metadata": {
  "kernelspec": {
   "display_name": "myenv",
   "language": "python",
   "name": "myenv"
  },
  "language_info": {
   "codemirror_mode": {
    "name": "ipython",
    "version": 3
   },
   "file_extension": ".py",
   "mimetype": "text/x-python",
   "name": "python",
   "nbconvert_exporter": "python",
   "pygments_lexer": "ipython3",
   "version": "3.6.9"
  }
 },
 "nbformat": 4,
 "nbformat_minor": 4
}
